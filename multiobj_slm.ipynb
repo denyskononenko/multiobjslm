{
 "cells": [
  {
   "cell_type": "markdown",
   "metadata": {},
   "source": [
    "# Source code for \"Designing materials by laser powder bed fusion with machine learning-driven multi-objective optimization\"\n",
    "\n",
    "This source code addresses a multi-objective optimization problem focusing on the Density and Amorphicity of metal components produced through Laser Powder Bed Fusion (LPBF). The training dataset consists of 180 points obtained by varying the Power, Hatching distance and Scanning velocity prinitng parameters.\n",
    "Details of the dataset are provided in the paper [Kosiba, Kononenko, Chernyavsky, Journal of Alloys and Compounds, 168946, 2023](https://doi.org/10.1016/j.jallcom.2023.168946). Data is available from the corresponding authors on reasonable request.\n",
    "Gaussian Process Regression (GPR) models are employed for analysis. To model Amorphicity accurately, a Heteroscedastic GPR is utilized, as it aligns well with our dataset characteristics. These trained models are subsequently applied in a bi-objective optimization process using the NSGA-II method.\n"
   ]
  },
  {
   "cell_type": "code",
   "execution_count": 2,
   "metadata": {},
   "outputs": [],
   "source": [
    "# data processing\n",
    "import numpy as np\n",
    "import pandas as pd\n",
    "\n",
    "# plotting\n",
    "import matplotlib.pyplot as plt\n",
    "import plotly.express as px\n",
    "import plotly.graph_objects as go\n",
    "\n",
    "# models\n",
    "# from sklearn.gaussian_process import GaussianProcessRegressor\n",
    "from gpr_custom import GaussianProcessRegressor\n",
    "from sklearn.gaussian_process.kernels import Matern, ConstantKernel\n",
    "from hgpr import HGPR\n",
    "\n",
    "# data adapter\n",
    "from data_adapter import DatasetPrint3D\n",
    "\n",
    "# utilities\n",
    "from sklearn.pipeline import Pipeline\n",
    "from sklearn.preprocessing import MinMaxScaler\n",
    "from sklearn.metrics import mean_squared_error, r2_score, mean_absolute_error\n",
    "from sklearn.model_selection import KFold, GridSearchCV, LeaveOneOut, cross_val_score\n",
    "\n",
    "# multi-obj optimization\n",
    "from pymoo.optimize import minimize \n",
    "from pymoo.core.problem import Problem\n",
    "from pymoo.algorithms.moo.nsga2 import NSGA2\n",
    "from pymoo.indicators.hv import Hypervolume\n",
    "from pymoo.config import Config\n",
    "Config.warnings['not_compiled'] = False\n"
   ]
  },
  {
   "cell_type": "markdown",
   "metadata": {},
   "source": [
    "# 1. Dataset"
   ]
  },
  {
   "cell_type": "code",
   "execution_count": 3,
   "metadata": {},
   "outputs": [],
   "source": [
    "data_file = 'dat/LPBF_Vit105_dataset_ML.xlsx' \n",
    "dataset = DatasetPrint3D(data_file, label='train')\n",
    "df = dataset.data_pd_aver"
   ]
  },
  {
   "cell_type": "code",
   "execution_count": 4,
   "metadata": {},
   "outputs": [
    {
     "data": {
      "text/html": [
       "<div>\n",
       "<style scoped>\n",
       "    .dataframe tbody tr th:only-of-type {\n",
       "        vertical-align: middle;\n",
       "    }\n",
       "\n",
       "    .dataframe tbody tr th {\n",
       "        vertical-align: top;\n",
       "    }\n",
       "\n",
       "    .dataframe thead th {\n",
       "        text-align: right;\n",
       "    }\n",
       "</style>\n",
       "<table border=\"1\" class=\"dataframe\">\n",
       "  <thead>\n",
       "    <tr style=\"text-align: right;\">\n",
       "      <th></th>\n",
       "      <th>abbr.</th>\n",
       "      <th>Power [W]</th>\n",
       "      <th>hatching distance [µm]</th>\n",
       "      <th>scanning velocity [m/s]</th>\n",
       "      <th>ΔHx [J/g]</th>\n",
       "      <th>ΔHx [%]</th>\n",
       "      <th>density [g/cm3]</th>\n",
       "      <th>density [%]</th>\n",
       "      <th>ΔHx [J/g]_std</th>\n",
       "      <th>ΔHx [%]_std</th>\n",
       "      <th>density [g/cm3]_std</th>\n",
       "      <th>density [%]_std</th>\n",
       "      <th>Energy density [MJ / m^2]</th>\n",
       "      <th>Enthalpy</th>\n",
       "      <th>Mod Enthalpy 1</th>\n",
       "      <th>Mod Enthalpy 2</th>\n",
       "      <th>label</th>\n",
       "    </tr>\n",
       "  </thead>\n",
       "  <tbody>\n",
       "    <tr>\n",
       "      <th>0</th>\n",
       "      <td>A14a</td>\n",
       "      <td>90</td>\n",
       "      <td>180</td>\n",
       "      <td>0.7</td>\n",
       "      <td>-67.975933</td>\n",
       "      <td>93.473814</td>\n",
       "      <td>6.661433</td>\n",
       "      <td>99.657905</td>\n",
       "      <td>1.654237</td>\n",
       "      <td>2.274743</td>\n",
       "      <td>0.008087</td>\n",
       "      <td>0.120987</td>\n",
       "      <td>0.714286</td>\n",
       "      <td>107.570575</td>\n",
       "      <td>0.597614</td>\n",
       "      <td>8.017837</td>\n",
       "      <td>train</td>\n",
       "    </tr>\n",
       "    <tr>\n",
       "      <th>1</th>\n",
       "      <td>A16a</td>\n",
       "      <td>90</td>\n",
       "      <td>180</td>\n",
       "      <td>0.8</td>\n",
       "      <td>-70.216100</td>\n",
       "      <td>96.554270</td>\n",
       "      <td>6.632100</td>\n",
       "      <td>99.219066</td>\n",
       "      <td>0.348254</td>\n",
       "      <td>0.478885</td>\n",
       "      <td>0.033657</td>\n",
       "      <td>0.503526</td>\n",
       "      <td>0.625000</td>\n",
       "      <td>100.623059</td>\n",
       "      <td>0.559017</td>\n",
       "      <td>7.500000</td>\n",
       "      <td>train</td>\n",
       "    </tr>\n",
       "    <tr>\n",
       "      <th>2</th>\n",
       "      <td>A18a</td>\n",
       "      <td>90</td>\n",
       "      <td>180</td>\n",
       "      <td>0.9</td>\n",
       "      <td>-70.571833</td>\n",
       "      <td>97.043440</td>\n",
       "      <td>6.636867</td>\n",
       "      <td>99.290377</td>\n",
       "      <td>0.396506</td>\n",
       "      <td>0.545236</td>\n",
       "      <td>0.038890</td>\n",
       "      <td>0.581812</td>\n",
       "      <td>0.555556</td>\n",
       "      <td>94.868330</td>\n",
       "      <td>0.527046</td>\n",
       "      <td>7.071068</td>\n",
       "      <td>train</td>\n",
       "    </tr>\n",
       "    <tr>\n",
       "      <th>3</th>\n",
       "      <td>A20a</td>\n",
       "      <td>90</td>\n",
       "      <td>180</td>\n",
       "      <td>1.0</td>\n",
       "      <td>-70.625433</td>\n",
       "      <td>97.117145</td>\n",
       "      <td>6.628300</td>\n",
       "      <td>99.162216</td>\n",
       "      <td>0.815907</td>\n",
       "      <td>1.121955</td>\n",
       "      <td>0.001499</td>\n",
       "      <td>0.022424</td>\n",
       "      <td>0.500000</td>\n",
       "      <td>90.000000</td>\n",
       "      <td>0.500000</td>\n",
       "      <td>6.708204</td>\n",
       "      <td>train</td>\n",
       "    </tr>\n",
       "    <tr>\n",
       "      <th>4</th>\n",
       "      <td>A22a</td>\n",
       "      <td>90</td>\n",
       "      <td>180</td>\n",
       "      <td>1.1</td>\n",
       "      <td>-70.457067</td>\n",
       "      <td>96.885624</td>\n",
       "      <td>6.594067</td>\n",
       "      <td>98.650071</td>\n",
       "      <td>1.259986</td>\n",
       "      <td>1.732609</td>\n",
       "      <td>0.015868</td>\n",
       "      <td>0.237393</td>\n",
       "      <td>0.454545</td>\n",
       "      <td>85.811633</td>\n",
       "      <td>0.476731</td>\n",
       "      <td>6.396021</td>\n",
       "      <td>train</td>\n",
       "    </tr>\n",
       "  </tbody>\n",
       "</table>\n",
       "</div>"
      ],
      "text/plain": [
       "  abbr.  Power [W]  hatching distance [µm]  scanning velocity [m/s]  \\\n",
       "0  A14a         90                     180                      0.7   \n",
       "1  A16a         90                     180                      0.8   \n",
       "2  A18a         90                     180                      0.9   \n",
       "3  A20a         90                     180                      1.0   \n",
       "4  A22a         90                     180                      1.1   \n",
       "\n",
       "   ΔHx [J/g]    ΔHx [%]  density [g/cm3]  density [%]  ΔHx [J/g]_std  \\\n",
       "0 -67.975933  93.473814         6.661433    99.657905       1.654237   \n",
       "1 -70.216100  96.554270         6.632100    99.219066       0.348254   \n",
       "2 -70.571833  97.043440         6.636867    99.290377       0.396506   \n",
       "3 -70.625433  97.117145         6.628300    99.162216       0.815907   \n",
       "4 -70.457067  96.885624         6.594067    98.650071       1.259986   \n",
       "\n",
       "   ΔHx [%]_std  density [g/cm3]_std  density [%]_std  \\\n",
       "0     2.274743             0.008087         0.120987   \n",
       "1     0.478885             0.033657         0.503526   \n",
       "2     0.545236             0.038890         0.581812   \n",
       "3     1.121955             0.001499         0.022424   \n",
       "4     1.732609             0.015868         0.237393   \n",
       "\n",
       "   Energy density [MJ / m^2]    Enthalpy  Mod Enthalpy 1  Mod Enthalpy 2  \\\n",
       "0                   0.714286  107.570575        0.597614        8.017837   \n",
       "1                   0.625000  100.623059        0.559017        7.500000   \n",
       "2                   0.555556   94.868330        0.527046        7.071068   \n",
       "3                   0.500000   90.000000        0.500000        6.708204   \n",
       "4                   0.454545   85.811633        0.476731        6.396021   \n",
       "\n",
       "   label  \n",
       "0  train  \n",
       "1  train  \n",
       "2  train  \n",
       "3  train  \n",
       "4  train  "
      ]
     },
     "execution_count": 4,
     "metadata": {},
     "output_type": "execute_result"
    }
   ],
   "source": [
    "df.head()"
   ]
  },
  {
   "cell_type": "code",
   "execution_count": 5,
   "metadata": {},
   "outputs": [
    {
     "data": {
      "application/vnd.plotly.v1+json": {
       "config": {
        "plotlyServerURL": "https://plot.ly"
       },
       "data": [
        {
         "hovertemplate": "Power [W]=%{x}<br>hatching distance [µm]=%{y}<br>scanning velocity [m/s]=%{z}<br>density [%]=%{marker.color}<extra></extra>",
         "legendgroup": "",
         "marker": {
          "color": [
           99.6579048416937,
           99.21906557156319,
           99.29037695295943,
           99.16221593884177,
           98.6500705633599,
           99.53672536141903,
           98.8714849223803,
           99.12980167457073,
           98.13493310194536,
           97.13507771943209,
           99.37764612599672,
           98.1793157099472,
           97.32357913319272,
           96.68526746754833,
           95.889372609448,
           98.6410943055618,
           98.26109939210785,
           98.60219718843656,
           97.92149763874549,
           98.07010457340338,
           99.84341416952161,
           99.81848012008238,
           99.64942726488441,
           98.9233477452139,
           98.39524457809097,
           99.5796119264545,
           99.25447192176694,
           98.71090964399163,
           97.7958300295718,
           96.48429902906814,
           99.74517401473103,
           99.73819248088806,
           99.79953024250857,
           99.77060674515906,
           99.66039824663763,
           99.84391285051039,
           99.97456726957186,
           99.9122321459739,
           99.80551441437387,
           99.30633474460053,
           99.78407113185624,
           99.70677557859462,
           99.06497314602875,
           98.0815742361454,
           97.16051044986013,
           99.87233766687125,
           99.8174827581049,
           99.82246956799263,
           99.83443791172328,
           99.70677557859464,
           99.85687855621863,
           100.17204494113066,
           100.12666497115133,
           99.86884689994963,
           99.8209735250263,
           99.96010552089696,
           99.8917862254338,
           99.81698407711589,
           99.15722912895392,
           98.31794902482937
          ],
          "coloraxis": "coloraxis",
          "symbol": "circle"
         },
         "mode": "markers",
         "name": "",
         "scene": "scene",
         "showlegend": false,
         "type": "scatter3d",
         "x": [
          90,
          90,
          90,
          90,
          90,
          90,
          90,
          90,
          90,
          90,
          90,
          90,
          90,
          90,
          90,
          100,
          100,
          100,
          100,
          100,
          100,
          100,
          100,
          100,
          100,
          100,
          100,
          100,
          100,
          100,
          110,
          110,
          110,
          110,
          110,
          110,
          110,
          110,
          110,
          110,
          110,
          110,
          110,
          110,
          110,
          120,
          120,
          120,
          120,
          120,
          120,
          120,
          120,
          120,
          120,
          120,
          120,
          120,
          120,
          120
         ],
         "y": [
          180,
          180,
          180,
          180,
          180,
          200,
          200,
          200,
          200,
          200,
          220,
          220,
          220,
          220,
          220,
          180,
          180,
          180,
          180,
          180,
          200,
          200,
          200,
          200,
          200,
          220,
          220,
          220,
          220,
          220,
          180,
          180,
          180,
          180,
          180,
          200,
          200,
          200,
          200,
          200,
          220,
          220,
          220,
          220,
          220,
          180,
          180,
          180,
          180,
          180,
          200,
          200,
          200,
          200,
          200,
          220,
          220,
          220,
          220,
          220
         ],
         "z": [
          0.7,
          0.8,
          0.9,
          1,
          1.1,
          0.7,
          0.8,
          0.9,
          1,
          1.1,
          0.7,
          0.8,
          0.9,
          1,
          1.1,
          0.7,
          0.8,
          0.9,
          1,
          1.1,
          0.7,
          0.8,
          0.9,
          1,
          1.1,
          0.7,
          0.8,
          0.9,
          1,
          1.1,
          0.7,
          0.8,
          0.9,
          1,
          1.1,
          0.7,
          0.8,
          0.9,
          1,
          1.1,
          0.7,
          0.8,
          0.9,
          1,
          1.1,
          0.7,
          0.8,
          0.9,
          1,
          1.1,
          0.7,
          0.8,
          0.9,
          1,
          1.1,
          0.7,
          0.8,
          0.9,
          1,
          1.1
         ]
        }
       ],
       "layout": {
        "coloraxis": {
         "colorbar": {
          "title": {
           "text": "density [%]"
          }
         },
         "colorscale": [
          [
           0,
           "#0d0887"
          ],
          [
           0.1111111111111111,
           "#46039f"
          ],
          [
           0.2222222222222222,
           "#7201a8"
          ],
          [
           0.3333333333333333,
           "#9c179e"
          ],
          [
           0.4444444444444444,
           "#bd3786"
          ],
          [
           0.5555555555555556,
           "#d8576b"
          ],
          [
           0.6666666666666666,
           "#ed7953"
          ],
          [
           0.7777777777777778,
           "#fb9f3a"
          ],
          [
           0.8888888888888888,
           "#fdca26"
          ],
          [
           1,
           "#f0f921"
          ]
         ]
        },
        "legend": {
         "tracegroupgap": 0
        },
        "margin": {
         "t": 60
        },
        "scene": {
         "domain": {
          "x": [
           0,
           1
          ],
          "y": [
           0,
           1
          ]
         },
         "xaxis": {
          "title": {
           "text": "Power [W]"
          }
         },
         "yaxis": {
          "title": {
           "text": "hatching distance [µm]"
          }
         },
         "zaxis": {
          "title": {
           "text": "scanning velocity [m/s]"
          }
         }
        },
        "template": {
         "data": {
          "bar": [
           {
            "error_x": {
             "color": "#2a3f5f"
            },
            "error_y": {
             "color": "#2a3f5f"
            },
            "marker": {
             "line": {
              "color": "#E5ECF6",
              "width": 0.5
             },
             "pattern": {
              "fillmode": "overlay",
              "size": 10,
              "solidity": 0.2
             }
            },
            "type": "bar"
           }
          ],
          "barpolar": [
           {
            "marker": {
             "line": {
              "color": "#E5ECF6",
              "width": 0.5
             },
             "pattern": {
              "fillmode": "overlay",
              "size": 10,
              "solidity": 0.2
             }
            },
            "type": "barpolar"
           }
          ],
          "carpet": [
           {
            "aaxis": {
             "endlinecolor": "#2a3f5f",
             "gridcolor": "white",
             "linecolor": "white",
             "minorgridcolor": "white",
             "startlinecolor": "#2a3f5f"
            },
            "baxis": {
             "endlinecolor": "#2a3f5f",
             "gridcolor": "white",
             "linecolor": "white",
             "minorgridcolor": "white",
             "startlinecolor": "#2a3f5f"
            },
            "type": "carpet"
           }
          ],
          "choropleth": [
           {
            "colorbar": {
             "outlinewidth": 0,
             "ticks": ""
            },
            "type": "choropleth"
           }
          ],
          "contour": [
           {
            "colorbar": {
             "outlinewidth": 0,
             "ticks": ""
            },
            "colorscale": [
             [
              0,
              "#0d0887"
             ],
             [
              0.1111111111111111,
              "#46039f"
             ],
             [
              0.2222222222222222,
              "#7201a8"
             ],
             [
              0.3333333333333333,
              "#9c179e"
             ],
             [
              0.4444444444444444,
              "#bd3786"
             ],
             [
              0.5555555555555556,
              "#d8576b"
             ],
             [
              0.6666666666666666,
              "#ed7953"
             ],
             [
              0.7777777777777778,
              "#fb9f3a"
             ],
             [
              0.8888888888888888,
              "#fdca26"
             ],
             [
              1,
              "#f0f921"
             ]
            ],
            "type": "contour"
           }
          ],
          "contourcarpet": [
           {
            "colorbar": {
             "outlinewidth": 0,
             "ticks": ""
            },
            "type": "contourcarpet"
           }
          ],
          "heatmap": [
           {
            "colorbar": {
             "outlinewidth": 0,
             "ticks": ""
            },
            "colorscale": [
             [
              0,
              "#0d0887"
             ],
             [
              0.1111111111111111,
              "#46039f"
             ],
             [
              0.2222222222222222,
              "#7201a8"
             ],
             [
              0.3333333333333333,
              "#9c179e"
             ],
             [
              0.4444444444444444,
              "#bd3786"
             ],
             [
              0.5555555555555556,
              "#d8576b"
             ],
             [
              0.6666666666666666,
              "#ed7953"
             ],
             [
              0.7777777777777778,
              "#fb9f3a"
             ],
             [
              0.8888888888888888,
              "#fdca26"
             ],
             [
              1,
              "#f0f921"
             ]
            ],
            "type": "heatmap"
           }
          ],
          "heatmapgl": [
           {
            "colorbar": {
             "outlinewidth": 0,
             "ticks": ""
            },
            "colorscale": [
             [
              0,
              "#0d0887"
             ],
             [
              0.1111111111111111,
              "#46039f"
             ],
             [
              0.2222222222222222,
              "#7201a8"
             ],
             [
              0.3333333333333333,
              "#9c179e"
             ],
             [
              0.4444444444444444,
              "#bd3786"
             ],
             [
              0.5555555555555556,
              "#d8576b"
             ],
             [
              0.6666666666666666,
              "#ed7953"
             ],
             [
              0.7777777777777778,
              "#fb9f3a"
             ],
             [
              0.8888888888888888,
              "#fdca26"
             ],
             [
              1,
              "#f0f921"
             ]
            ],
            "type": "heatmapgl"
           }
          ],
          "histogram": [
           {
            "marker": {
             "pattern": {
              "fillmode": "overlay",
              "size": 10,
              "solidity": 0.2
             }
            },
            "type": "histogram"
           }
          ],
          "histogram2d": [
           {
            "colorbar": {
             "outlinewidth": 0,
             "ticks": ""
            },
            "colorscale": [
             [
              0,
              "#0d0887"
             ],
             [
              0.1111111111111111,
              "#46039f"
             ],
             [
              0.2222222222222222,
              "#7201a8"
             ],
             [
              0.3333333333333333,
              "#9c179e"
             ],
             [
              0.4444444444444444,
              "#bd3786"
             ],
             [
              0.5555555555555556,
              "#d8576b"
             ],
             [
              0.6666666666666666,
              "#ed7953"
             ],
             [
              0.7777777777777778,
              "#fb9f3a"
             ],
             [
              0.8888888888888888,
              "#fdca26"
             ],
             [
              1,
              "#f0f921"
             ]
            ],
            "type": "histogram2d"
           }
          ],
          "histogram2dcontour": [
           {
            "colorbar": {
             "outlinewidth": 0,
             "ticks": ""
            },
            "colorscale": [
             [
              0,
              "#0d0887"
             ],
             [
              0.1111111111111111,
              "#46039f"
             ],
             [
              0.2222222222222222,
              "#7201a8"
             ],
             [
              0.3333333333333333,
              "#9c179e"
             ],
             [
              0.4444444444444444,
              "#bd3786"
             ],
             [
              0.5555555555555556,
              "#d8576b"
             ],
             [
              0.6666666666666666,
              "#ed7953"
             ],
             [
              0.7777777777777778,
              "#fb9f3a"
             ],
             [
              0.8888888888888888,
              "#fdca26"
             ],
             [
              1,
              "#f0f921"
             ]
            ],
            "type": "histogram2dcontour"
           }
          ],
          "mesh3d": [
           {
            "colorbar": {
             "outlinewidth": 0,
             "ticks": ""
            },
            "type": "mesh3d"
           }
          ],
          "parcoords": [
           {
            "line": {
             "colorbar": {
              "outlinewidth": 0,
              "ticks": ""
             }
            },
            "type": "parcoords"
           }
          ],
          "pie": [
           {
            "automargin": true,
            "type": "pie"
           }
          ],
          "scatter": [
           {
            "fillpattern": {
             "fillmode": "overlay",
             "size": 10,
             "solidity": 0.2
            },
            "type": "scatter"
           }
          ],
          "scatter3d": [
           {
            "line": {
             "colorbar": {
              "outlinewidth": 0,
              "ticks": ""
             }
            },
            "marker": {
             "colorbar": {
              "outlinewidth": 0,
              "ticks": ""
             }
            },
            "type": "scatter3d"
           }
          ],
          "scattercarpet": [
           {
            "marker": {
             "colorbar": {
              "outlinewidth": 0,
              "ticks": ""
             }
            },
            "type": "scattercarpet"
           }
          ],
          "scattergeo": [
           {
            "marker": {
             "colorbar": {
              "outlinewidth": 0,
              "ticks": ""
             }
            },
            "type": "scattergeo"
           }
          ],
          "scattergl": [
           {
            "marker": {
             "colorbar": {
              "outlinewidth": 0,
              "ticks": ""
             }
            },
            "type": "scattergl"
           }
          ],
          "scattermapbox": [
           {
            "marker": {
             "colorbar": {
              "outlinewidth": 0,
              "ticks": ""
             }
            },
            "type": "scattermapbox"
           }
          ],
          "scatterpolar": [
           {
            "marker": {
             "colorbar": {
              "outlinewidth": 0,
              "ticks": ""
             }
            },
            "type": "scatterpolar"
           }
          ],
          "scatterpolargl": [
           {
            "marker": {
             "colorbar": {
              "outlinewidth": 0,
              "ticks": ""
             }
            },
            "type": "scatterpolargl"
           }
          ],
          "scatterternary": [
           {
            "marker": {
             "colorbar": {
              "outlinewidth": 0,
              "ticks": ""
             }
            },
            "type": "scatterternary"
           }
          ],
          "surface": [
           {
            "colorbar": {
             "outlinewidth": 0,
             "ticks": ""
            },
            "colorscale": [
             [
              0,
              "#0d0887"
             ],
             [
              0.1111111111111111,
              "#46039f"
             ],
             [
              0.2222222222222222,
              "#7201a8"
             ],
             [
              0.3333333333333333,
              "#9c179e"
             ],
             [
              0.4444444444444444,
              "#bd3786"
             ],
             [
              0.5555555555555556,
              "#d8576b"
             ],
             [
              0.6666666666666666,
              "#ed7953"
             ],
             [
              0.7777777777777778,
              "#fb9f3a"
             ],
             [
              0.8888888888888888,
              "#fdca26"
             ],
             [
              1,
              "#f0f921"
             ]
            ],
            "type": "surface"
           }
          ],
          "table": [
           {
            "cells": {
             "fill": {
              "color": "#EBF0F8"
             },
             "line": {
              "color": "white"
             }
            },
            "header": {
             "fill": {
              "color": "#C8D4E3"
             },
             "line": {
              "color": "white"
             }
            },
            "type": "table"
           }
          ]
         },
         "layout": {
          "annotationdefaults": {
           "arrowcolor": "#2a3f5f",
           "arrowhead": 0,
           "arrowwidth": 1
          },
          "autotypenumbers": "strict",
          "coloraxis": {
           "colorbar": {
            "outlinewidth": 0,
            "ticks": ""
           }
          },
          "colorscale": {
           "diverging": [
            [
             0,
             "#8e0152"
            ],
            [
             0.1,
             "#c51b7d"
            ],
            [
             0.2,
             "#de77ae"
            ],
            [
             0.3,
             "#f1b6da"
            ],
            [
             0.4,
             "#fde0ef"
            ],
            [
             0.5,
             "#f7f7f7"
            ],
            [
             0.6,
             "#e6f5d0"
            ],
            [
             0.7,
             "#b8e186"
            ],
            [
             0.8,
             "#7fbc41"
            ],
            [
             0.9,
             "#4d9221"
            ],
            [
             1,
             "#276419"
            ]
           ],
           "sequential": [
            [
             0,
             "#0d0887"
            ],
            [
             0.1111111111111111,
             "#46039f"
            ],
            [
             0.2222222222222222,
             "#7201a8"
            ],
            [
             0.3333333333333333,
             "#9c179e"
            ],
            [
             0.4444444444444444,
             "#bd3786"
            ],
            [
             0.5555555555555556,
             "#d8576b"
            ],
            [
             0.6666666666666666,
             "#ed7953"
            ],
            [
             0.7777777777777778,
             "#fb9f3a"
            ],
            [
             0.8888888888888888,
             "#fdca26"
            ],
            [
             1,
             "#f0f921"
            ]
           ],
           "sequentialminus": [
            [
             0,
             "#0d0887"
            ],
            [
             0.1111111111111111,
             "#46039f"
            ],
            [
             0.2222222222222222,
             "#7201a8"
            ],
            [
             0.3333333333333333,
             "#9c179e"
            ],
            [
             0.4444444444444444,
             "#bd3786"
            ],
            [
             0.5555555555555556,
             "#d8576b"
            ],
            [
             0.6666666666666666,
             "#ed7953"
            ],
            [
             0.7777777777777778,
             "#fb9f3a"
            ],
            [
             0.8888888888888888,
             "#fdca26"
            ],
            [
             1,
             "#f0f921"
            ]
           ]
          },
          "colorway": [
           "#636efa",
           "#EF553B",
           "#00cc96",
           "#ab63fa",
           "#FFA15A",
           "#19d3f3",
           "#FF6692",
           "#B6E880",
           "#FF97FF",
           "#FECB52"
          ],
          "font": {
           "color": "#2a3f5f"
          },
          "geo": {
           "bgcolor": "white",
           "lakecolor": "white",
           "landcolor": "#E5ECF6",
           "showlakes": true,
           "showland": true,
           "subunitcolor": "white"
          },
          "hoverlabel": {
           "align": "left"
          },
          "hovermode": "closest",
          "mapbox": {
           "style": "light"
          },
          "paper_bgcolor": "white",
          "plot_bgcolor": "#E5ECF6",
          "polar": {
           "angularaxis": {
            "gridcolor": "white",
            "linecolor": "white",
            "ticks": ""
           },
           "bgcolor": "#E5ECF6",
           "radialaxis": {
            "gridcolor": "white",
            "linecolor": "white",
            "ticks": ""
           }
          },
          "scene": {
           "xaxis": {
            "backgroundcolor": "#E5ECF6",
            "gridcolor": "white",
            "gridwidth": 2,
            "linecolor": "white",
            "showbackground": true,
            "ticks": "",
            "zerolinecolor": "white"
           },
           "yaxis": {
            "backgroundcolor": "#E5ECF6",
            "gridcolor": "white",
            "gridwidth": 2,
            "linecolor": "white",
            "showbackground": true,
            "ticks": "",
            "zerolinecolor": "white"
           },
           "zaxis": {
            "backgroundcolor": "#E5ECF6",
            "gridcolor": "white",
            "gridwidth": 2,
            "linecolor": "white",
            "showbackground": true,
            "ticks": "",
            "zerolinecolor": "white"
           }
          },
          "shapedefaults": {
           "line": {
            "color": "#2a3f5f"
           }
          },
          "ternary": {
           "aaxis": {
            "gridcolor": "white",
            "linecolor": "white",
            "ticks": ""
           },
           "baxis": {
            "gridcolor": "white",
            "linecolor": "white",
            "ticks": ""
           },
           "bgcolor": "#E5ECF6",
           "caxis": {
            "gridcolor": "white",
            "linecolor": "white",
            "ticks": ""
           }
          },
          "title": {
           "x": 0.05
          },
          "xaxis": {
           "automargin": true,
           "gridcolor": "white",
           "linecolor": "white",
           "ticks": "",
           "title": {
            "standoff": 15
           },
           "zerolinecolor": "white",
           "zerolinewidth": 2
          },
          "yaxis": {
           "automargin": true,
           "gridcolor": "white",
           "linecolor": "white",
           "ticks": "",
           "title": {
            "standoff": 15
           },
           "zerolinecolor": "white",
           "zerolinewidth": 2
          }
         }
        },
        "width": 700
       }
      }
     },
     "metadata": {},
     "output_type": "display_data"
    }
   ],
   "source": [
    "fig = px.scatter_3d(\n",
    "    df, \n",
    "    x='Power [W]', \n",
    "    y='hatching distance [µm]', \n",
    "    z='scanning velocity [m/s]', \n",
    "    color='density [%]',\n",
    "    )\n",
    "fig.update_layout(\n",
    "    width=700,\n",
    ")\n",
    "fig.show()"
   ]
  },
  {
   "cell_type": "code",
   "execution_count": 6,
   "metadata": {},
   "outputs": [
    {
     "data": {
      "application/vnd.plotly.v1+json": {
       "config": {
        "plotlyServerURL": "https://plot.ly"
       },
       "data": [
        {
         "hovertemplate": "Power [W]=%{x}<br>hatching distance [µm]=%{y}<br>scanning velocity [m/s]=%{z}<br>ΔHx [%]=%{marker.color}<extra></extra>",
         "legendgroup": "",
         "marker": {
          "color": [
           93.47381371132123,
           96.55427044672928,
           97.04343991745723,
           97.117145362447,
           96.88562409214647,
           96.6282050753166,
           98.0632610900797,
           97.40050796252574,
           98.1434295125219,
           98.49774735441913,
           97.49736095087356,
           98.0144449837898,
           98.10556838219753,
           98.14223775781433,
           98.84651895325435,
           97.58500075859774,
           96.79097126633565,
           96.94759533693887,
           97.19804717240153,
           96.67573775345987,
           96.79546326484869,
           98.06743223155611,
           98.54619676695279,
           96.266553358296,
           98.46676173202293,
           98.0072027821055,
           97.24356303488582,
           97.23494573161594,
           96.60281153270198,
           97.81904304847187,
           73.28232623185038,
           87.83626390399593,
           93.07352163974447,
           96.37115275224289,
           97.96484965326813,
           95.66494641458303,
           95.13864920104307,
           97.72769046646657,
           97.21816949227123,
           96.48592789792347,
           92.36520681298663,
           92.86597297375344,
           97.37580197070393,
           97.96631642829281,
           96.36803585531545,
           85.45651309990525,
           94.33412310001067,
           94.16856086910086,
           96.90272118852783,
           97.99354343968828,
           88.10280442801047,
           93.86718443825038,
           97.83999042929297,
           94.82741787549556,
           98.45470667478894,
           95.43645036777093,
           95.2771677674355,
           97.59018030790357,
           97.28289094023485,
           97.21184402497737
          ],
          "coloraxis": "coloraxis",
          "symbol": "circle"
         },
         "mode": "markers",
         "name": "",
         "scene": "scene",
         "showlegend": false,
         "type": "scatter3d",
         "x": [
          90,
          90,
          90,
          90,
          90,
          90,
          90,
          90,
          90,
          90,
          90,
          90,
          90,
          90,
          90,
          100,
          100,
          100,
          100,
          100,
          100,
          100,
          100,
          100,
          100,
          100,
          100,
          100,
          100,
          100,
          110,
          110,
          110,
          110,
          110,
          110,
          110,
          110,
          110,
          110,
          110,
          110,
          110,
          110,
          110,
          120,
          120,
          120,
          120,
          120,
          120,
          120,
          120,
          120,
          120,
          120,
          120,
          120,
          120,
          120
         ],
         "y": [
          180,
          180,
          180,
          180,
          180,
          200,
          200,
          200,
          200,
          200,
          220,
          220,
          220,
          220,
          220,
          180,
          180,
          180,
          180,
          180,
          200,
          200,
          200,
          200,
          200,
          220,
          220,
          220,
          220,
          220,
          180,
          180,
          180,
          180,
          180,
          200,
          200,
          200,
          200,
          200,
          220,
          220,
          220,
          220,
          220,
          180,
          180,
          180,
          180,
          180,
          200,
          200,
          200,
          200,
          200,
          220,
          220,
          220,
          220,
          220
         ],
         "z": [
          0.7,
          0.8,
          0.9,
          1,
          1.1,
          0.7,
          0.8,
          0.9,
          1,
          1.1,
          0.7,
          0.8,
          0.9,
          1,
          1.1,
          0.7,
          0.8,
          0.9,
          1,
          1.1,
          0.7,
          0.8,
          0.9,
          1,
          1.1,
          0.7,
          0.8,
          0.9,
          1,
          1.1,
          0.7,
          0.8,
          0.9,
          1,
          1.1,
          0.7,
          0.8,
          0.9,
          1,
          1.1,
          0.7,
          0.8,
          0.9,
          1,
          1.1,
          0.7,
          0.8,
          0.9,
          1,
          1.1,
          0.7,
          0.8,
          0.9,
          1,
          1.1,
          0.7,
          0.8,
          0.9,
          1,
          1.1
         ]
        }
       ],
       "layout": {
        "coloraxis": {
         "colorbar": {
          "title": {
           "text": "ΔHx [%]"
          }
         },
         "colorscale": [
          [
           0,
           "#0d0887"
          ],
          [
           0.1111111111111111,
           "#46039f"
          ],
          [
           0.2222222222222222,
           "#7201a8"
          ],
          [
           0.3333333333333333,
           "#9c179e"
          ],
          [
           0.4444444444444444,
           "#bd3786"
          ],
          [
           0.5555555555555556,
           "#d8576b"
          ],
          [
           0.6666666666666666,
           "#ed7953"
          ],
          [
           0.7777777777777778,
           "#fb9f3a"
          ],
          [
           0.8888888888888888,
           "#fdca26"
          ],
          [
           1,
           "#f0f921"
          ]
         ]
        },
        "legend": {
         "tracegroupgap": 0
        },
        "margin": {
         "t": 60
        },
        "scene": {
         "domain": {
          "x": [
           0,
           1
          ],
          "y": [
           0,
           1
          ]
         },
         "xaxis": {
          "title": {
           "text": "Power [W]"
          }
         },
         "yaxis": {
          "title": {
           "text": "hatching distance [µm]"
          }
         },
         "zaxis": {
          "title": {
           "text": "scanning velocity [m/s]"
          }
         }
        },
        "template": {
         "data": {
          "bar": [
           {
            "error_x": {
             "color": "#2a3f5f"
            },
            "error_y": {
             "color": "#2a3f5f"
            },
            "marker": {
             "line": {
              "color": "#E5ECF6",
              "width": 0.5
             },
             "pattern": {
              "fillmode": "overlay",
              "size": 10,
              "solidity": 0.2
             }
            },
            "type": "bar"
           }
          ],
          "barpolar": [
           {
            "marker": {
             "line": {
              "color": "#E5ECF6",
              "width": 0.5
             },
             "pattern": {
              "fillmode": "overlay",
              "size": 10,
              "solidity": 0.2
             }
            },
            "type": "barpolar"
           }
          ],
          "carpet": [
           {
            "aaxis": {
             "endlinecolor": "#2a3f5f",
             "gridcolor": "white",
             "linecolor": "white",
             "minorgridcolor": "white",
             "startlinecolor": "#2a3f5f"
            },
            "baxis": {
             "endlinecolor": "#2a3f5f",
             "gridcolor": "white",
             "linecolor": "white",
             "minorgridcolor": "white",
             "startlinecolor": "#2a3f5f"
            },
            "type": "carpet"
           }
          ],
          "choropleth": [
           {
            "colorbar": {
             "outlinewidth": 0,
             "ticks": ""
            },
            "type": "choropleth"
           }
          ],
          "contour": [
           {
            "colorbar": {
             "outlinewidth": 0,
             "ticks": ""
            },
            "colorscale": [
             [
              0,
              "#0d0887"
             ],
             [
              0.1111111111111111,
              "#46039f"
             ],
             [
              0.2222222222222222,
              "#7201a8"
             ],
             [
              0.3333333333333333,
              "#9c179e"
             ],
             [
              0.4444444444444444,
              "#bd3786"
             ],
             [
              0.5555555555555556,
              "#d8576b"
             ],
             [
              0.6666666666666666,
              "#ed7953"
             ],
             [
              0.7777777777777778,
              "#fb9f3a"
             ],
             [
              0.8888888888888888,
              "#fdca26"
             ],
             [
              1,
              "#f0f921"
             ]
            ],
            "type": "contour"
           }
          ],
          "contourcarpet": [
           {
            "colorbar": {
             "outlinewidth": 0,
             "ticks": ""
            },
            "type": "contourcarpet"
           }
          ],
          "heatmap": [
           {
            "colorbar": {
             "outlinewidth": 0,
             "ticks": ""
            },
            "colorscale": [
             [
              0,
              "#0d0887"
             ],
             [
              0.1111111111111111,
              "#46039f"
             ],
             [
              0.2222222222222222,
              "#7201a8"
             ],
             [
              0.3333333333333333,
              "#9c179e"
             ],
             [
              0.4444444444444444,
              "#bd3786"
             ],
             [
              0.5555555555555556,
              "#d8576b"
             ],
             [
              0.6666666666666666,
              "#ed7953"
             ],
             [
              0.7777777777777778,
              "#fb9f3a"
             ],
             [
              0.8888888888888888,
              "#fdca26"
             ],
             [
              1,
              "#f0f921"
             ]
            ],
            "type": "heatmap"
           }
          ],
          "heatmapgl": [
           {
            "colorbar": {
             "outlinewidth": 0,
             "ticks": ""
            },
            "colorscale": [
             [
              0,
              "#0d0887"
             ],
             [
              0.1111111111111111,
              "#46039f"
             ],
             [
              0.2222222222222222,
              "#7201a8"
             ],
             [
              0.3333333333333333,
              "#9c179e"
             ],
             [
              0.4444444444444444,
              "#bd3786"
             ],
             [
              0.5555555555555556,
              "#d8576b"
             ],
             [
              0.6666666666666666,
              "#ed7953"
             ],
             [
              0.7777777777777778,
              "#fb9f3a"
             ],
             [
              0.8888888888888888,
              "#fdca26"
             ],
             [
              1,
              "#f0f921"
             ]
            ],
            "type": "heatmapgl"
           }
          ],
          "histogram": [
           {
            "marker": {
             "pattern": {
              "fillmode": "overlay",
              "size": 10,
              "solidity": 0.2
             }
            },
            "type": "histogram"
           }
          ],
          "histogram2d": [
           {
            "colorbar": {
             "outlinewidth": 0,
             "ticks": ""
            },
            "colorscale": [
             [
              0,
              "#0d0887"
             ],
             [
              0.1111111111111111,
              "#46039f"
             ],
             [
              0.2222222222222222,
              "#7201a8"
             ],
             [
              0.3333333333333333,
              "#9c179e"
             ],
             [
              0.4444444444444444,
              "#bd3786"
             ],
             [
              0.5555555555555556,
              "#d8576b"
             ],
             [
              0.6666666666666666,
              "#ed7953"
             ],
             [
              0.7777777777777778,
              "#fb9f3a"
             ],
             [
              0.8888888888888888,
              "#fdca26"
             ],
             [
              1,
              "#f0f921"
             ]
            ],
            "type": "histogram2d"
           }
          ],
          "histogram2dcontour": [
           {
            "colorbar": {
             "outlinewidth": 0,
             "ticks": ""
            },
            "colorscale": [
             [
              0,
              "#0d0887"
             ],
             [
              0.1111111111111111,
              "#46039f"
             ],
             [
              0.2222222222222222,
              "#7201a8"
             ],
             [
              0.3333333333333333,
              "#9c179e"
             ],
             [
              0.4444444444444444,
              "#bd3786"
             ],
             [
              0.5555555555555556,
              "#d8576b"
             ],
             [
              0.6666666666666666,
              "#ed7953"
             ],
             [
              0.7777777777777778,
              "#fb9f3a"
             ],
             [
              0.8888888888888888,
              "#fdca26"
             ],
             [
              1,
              "#f0f921"
             ]
            ],
            "type": "histogram2dcontour"
           }
          ],
          "mesh3d": [
           {
            "colorbar": {
             "outlinewidth": 0,
             "ticks": ""
            },
            "type": "mesh3d"
           }
          ],
          "parcoords": [
           {
            "line": {
             "colorbar": {
              "outlinewidth": 0,
              "ticks": ""
             }
            },
            "type": "parcoords"
           }
          ],
          "pie": [
           {
            "automargin": true,
            "type": "pie"
           }
          ],
          "scatter": [
           {
            "fillpattern": {
             "fillmode": "overlay",
             "size": 10,
             "solidity": 0.2
            },
            "type": "scatter"
           }
          ],
          "scatter3d": [
           {
            "line": {
             "colorbar": {
              "outlinewidth": 0,
              "ticks": ""
             }
            },
            "marker": {
             "colorbar": {
              "outlinewidth": 0,
              "ticks": ""
             }
            },
            "type": "scatter3d"
           }
          ],
          "scattercarpet": [
           {
            "marker": {
             "colorbar": {
              "outlinewidth": 0,
              "ticks": ""
             }
            },
            "type": "scattercarpet"
           }
          ],
          "scattergeo": [
           {
            "marker": {
             "colorbar": {
              "outlinewidth": 0,
              "ticks": ""
             }
            },
            "type": "scattergeo"
           }
          ],
          "scattergl": [
           {
            "marker": {
             "colorbar": {
              "outlinewidth": 0,
              "ticks": ""
             }
            },
            "type": "scattergl"
           }
          ],
          "scattermapbox": [
           {
            "marker": {
             "colorbar": {
              "outlinewidth": 0,
              "ticks": ""
             }
            },
            "type": "scattermapbox"
           }
          ],
          "scatterpolar": [
           {
            "marker": {
             "colorbar": {
              "outlinewidth": 0,
              "ticks": ""
             }
            },
            "type": "scatterpolar"
           }
          ],
          "scatterpolargl": [
           {
            "marker": {
             "colorbar": {
              "outlinewidth": 0,
              "ticks": ""
             }
            },
            "type": "scatterpolargl"
           }
          ],
          "scatterternary": [
           {
            "marker": {
             "colorbar": {
              "outlinewidth": 0,
              "ticks": ""
             }
            },
            "type": "scatterternary"
           }
          ],
          "surface": [
           {
            "colorbar": {
             "outlinewidth": 0,
             "ticks": ""
            },
            "colorscale": [
             [
              0,
              "#0d0887"
             ],
             [
              0.1111111111111111,
              "#46039f"
             ],
             [
              0.2222222222222222,
              "#7201a8"
             ],
             [
              0.3333333333333333,
              "#9c179e"
             ],
             [
              0.4444444444444444,
              "#bd3786"
             ],
             [
              0.5555555555555556,
              "#d8576b"
             ],
             [
              0.6666666666666666,
              "#ed7953"
             ],
             [
              0.7777777777777778,
              "#fb9f3a"
             ],
             [
              0.8888888888888888,
              "#fdca26"
             ],
             [
              1,
              "#f0f921"
             ]
            ],
            "type": "surface"
           }
          ],
          "table": [
           {
            "cells": {
             "fill": {
              "color": "#EBF0F8"
             },
             "line": {
              "color": "white"
             }
            },
            "header": {
             "fill": {
              "color": "#C8D4E3"
             },
             "line": {
              "color": "white"
             }
            },
            "type": "table"
           }
          ]
         },
         "layout": {
          "annotationdefaults": {
           "arrowcolor": "#2a3f5f",
           "arrowhead": 0,
           "arrowwidth": 1
          },
          "autotypenumbers": "strict",
          "coloraxis": {
           "colorbar": {
            "outlinewidth": 0,
            "ticks": ""
           }
          },
          "colorscale": {
           "diverging": [
            [
             0,
             "#8e0152"
            ],
            [
             0.1,
             "#c51b7d"
            ],
            [
             0.2,
             "#de77ae"
            ],
            [
             0.3,
             "#f1b6da"
            ],
            [
             0.4,
             "#fde0ef"
            ],
            [
             0.5,
             "#f7f7f7"
            ],
            [
             0.6,
             "#e6f5d0"
            ],
            [
             0.7,
             "#b8e186"
            ],
            [
             0.8,
             "#7fbc41"
            ],
            [
             0.9,
             "#4d9221"
            ],
            [
             1,
             "#276419"
            ]
           ],
           "sequential": [
            [
             0,
             "#0d0887"
            ],
            [
             0.1111111111111111,
             "#46039f"
            ],
            [
             0.2222222222222222,
             "#7201a8"
            ],
            [
             0.3333333333333333,
             "#9c179e"
            ],
            [
             0.4444444444444444,
             "#bd3786"
            ],
            [
             0.5555555555555556,
             "#d8576b"
            ],
            [
             0.6666666666666666,
             "#ed7953"
            ],
            [
             0.7777777777777778,
             "#fb9f3a"
            ],
            [
             0.8888888888888888,
             "#fdca26"
            ],
            [
             1,
             "#f0f921"
            ]
           ],
           "sequentialminus": [
            [
             0,
             "#0d0887"
            ],
            [
             0.1111111111111111,
             "#46039f"
            ],
            [
             0.2222222222222222,
             "#7201a8"
            ],
            [
             0.3333333333333333,
             "#9c179e"
            ],
            [
             0.4444444444444444,
             "#bd3786"
            ],
            [
             0.5555555555555556,
             "#d8576b"
            ],
            [
             0.6666666666666666,
             "#ed7953"
            ],
            [
             0.7777777777777778,
             "#fb9f3a"
            ],
            [
             0.8888888888888888,
             "#fdca26"
            ],
            [
             1,
             "#f0f921"
            ]
           ]
          },
          "colorway": [
           "#636efa",
           "#EF553B",
           "#00cc96",
           "#ab63fa",
           "#FFA15A",
           "#19d3f3",
           "#FF6692",
           "#B6E880",
           "#FF97FF",
           "#FECB52"
          ],
          "font": {
           "color": "#2a3f5f"
          },
          "geo": {
           "bgcolor": "white",
           "lakecolor": "white",
           "landcolor": "#E5ECF6",
           "showlakes": true,
           "showland": true,
           "subunitcolor": "white"
          },
          "hoverlabel": {
           "align": "left"
          },
          "hovermode": "closest",
          "mapbox": {
           "style": "light"
          },
          "paper_bgcolor": "white",
          "plot_bgcolor": "#E5ECF6",
          "polar": {
           "angularaxis": {
            "gridcolor": "white",
            "linecolor": "white",
            "ticks": ""
           },
           "bgcolor": "#E5ECF6",
           "radialaxis": {
            "gridcolor": "white",
            "linecolor": "white",
            "ticks": ""
           }
          },
          "scene": {
           "xaxis": {
            "backgroundcolor": "#E5ECF6",
            "gridcolor": "white",
            "gridwidth": 2,
            "linecolor": "white",
            "showbackground": true,
            "ticks": "",
            "zerolinecolor": "white"
           },
           "yaxis": {
            "backgroundcolor": "#E5ECF6",
            "gridcolor": "white",
            "gridwidth": 2,
            "linecolor": "white",
            "showbackground": true,
            "ticks": "",
            "zerolinecolor": "white"
           },
           "zaxis": {
            "backgroundcolor": "#E5ECF6",
            "gridcolor": "white",
            "gridwidth": 2,
            "linecolor": "white",
            "showbackground": true,
            "ticks": "",
            "zerolinecolor": "white"
           }
          },
          "shapedefaults": {
           "line": {
            "color": "#2a3f5f"
           }
          },
          "ternary": {
           "aaxis": {
            "gridcolor": "white",
            "linecolor": "white",
            "ticks": ""
           },
           "baxis": {
            "gridcolor": "white",
            "linecolor": "white",
            "ticks": ""
           },
           "bgcolor": "#E5ECF6",
           "caxis": {
            "gridcolor": "white",
            "linecolor": "white",
            "ticks": ""
           }
          },
          "title": {
           "x": 0.05
          },
          "xaxis": {
           "automargin": true,
           "gridcolor": "white",
           "linecolor": "white",
           "ticks": "",
           "title": {
            "standoff": 15
           },
           "zerolinecolor": "white",
           "zerolinewidth": 2
          },
          "yaxis": {
           "automargin": true,
           "gridcolor": "white",
           "linecolor": "white",
           "ticks": "",
           "title": {
            "standoff": 15
           },
           "zerolinecolor": "white",
           "zerolinewidth": 2
          }
         }
        },
        "width": 700
       }
      }
     },
     "metadata": {},
     "output_type": "display_data"
    }
   ],
   "source": [
    "fig = px.scatter_3d(\n",
    "    df, \n",
    "    x='Power [W]', \n",
    "    y='hatching distance [µm]', \n",
    "    z='scanning velocity [m/s]', \n",
    "    color='ΔHx [%]',\n",
    "    )\n",
    "fig.update_layout(\n",
    "    width=700,\n",
    ")\n",
    "fig.show()"
   ]
  },
  {
   "cell_type": "code",
   "execution_count": 7,
   "metadata": {},
   "outputs": [
    {
     "name": "stdout",
     "output_type": "stream",
     "text": [
      "Params grid shape: (60, 3)\n",
      "Density min: 95.89, max: 100.17, mean: 99.06\n",
      "Amrphisity min: 73.28, max: 98.85, mean: 95.89\n",
      "Power min: 90.00, max: 120.00, step: 10.00\n",
      "Hatching dist. min: 180.00, max: 220.00, step: 20.00\n",
      "Printing velocity min: 0.70, max: 1.10, step: 0.10\n",
      "Max dens: 100.17 min dens: 95.89\n"
     ]
    }
   ],
   "source": [
    "# experimental predictors, measured target_features \n",
    "X_init, D_init = dataset.X_Density_init       # all experimental points\n",
    "X_init_a, A_init = dataset.X_Amorphisity_init\n",
    "\n",
    "# experimental predictors, mean of the target_feature, standart deviation fo the target feature\n",
    "X, D, D_std = dataset.X_Density # averaged experimental points\n",
    "Xa, A, A_std = dataset.X_Amorphicity\n",
    "\n",
    "# experimental params grid\n",
    "# min max\n",
    "minP, maxP = np.min(X[:, 0]), np.max(X[:, 0])\n",
    "minH, maxH = np.min(X[:, 1]), np.max(X[:, 1])\n",
    "minV, maxV = np.min(X[:, 2]), np.max(X[:, 2])\n",
    "# steps\n",
    "dP = sorted(set(X[:, 0]))[1] - sorted(set(X[:, 0]))[0]\n",
    "dH = sorted(set(X[:, 1]))[1] - sorted(set(X[:, 1]))[0]\n",
    "dV = sorted(set(X[:, 2]))[1] - sorted(set(X[:, 2]))[0]\n",
    "\n",
    "print(f'Params grid shape: {X.shape}')\n",
    "print(f'Density min: {np.min(D):.2f}, max: {np.max(D):.2f}, mean: {D.mean():.2f}')\n",
    "print(f'Amrphisity min: {np.min(A):.2f}, max: {np.max(A):.2f}, mean: {A.mean():.2f}')\n",
    "print(f'Power min: {minP:.2f}, max: {maxP:.2f}, step: {dP:.2f}')\n",
    "print(f'Hatching dist. min: {minH:.2f}, max: {maxH:.2f}, step: {dH:.2f}')\n",
    "print(f'Printing velocity min: {minV:.2f}, max: {maxV:.2f}, step: {dV:.2f}')\n",
    "print(f'Max dens: {np.max(D):.2f} min dens: {np.min(D):.2f}')"
   ]
  },
  {
   "cell_type": "markdown",
   "metadata": {},
   "source": [
    "# 2. Models"
   ]
  },
  {
   "cell_type": "code",
   "execution_count": 8,
   "metadata": {},
   "outputs": [],
   "source": [
    "kernel = ConstantKernel(1.0, (1e-3, 1e3)) *\\\n",
    "         Matern(\n",
    "            length_scale=[3, 3, 3], \n",
    "            length_scale_bounds=((1e-2, 1e5), (1e-2, 1e5), (1e-2, 1e5)),  \n",
    "            nu=3/2\n",
    "        )\n",
    "# GPR model for predicition of the density \n",
    "model_dens = Pipeline([\n",
    "    ('scaler', MinMaxScaler()), \n",
    "    ('gpr', GaussianProcessRegressor(kernel=kernel, alpha_fit=True, n_restarts_optimizer=25))\n",
    "])\n",
    "\n",
    "# HGPR model for prediciton of the amorphicity \n",
    "model_amor = Pipeline([\n",
    "    ('scaler', MinMaxScaler()), \n",
    "    ('gpr', HGPR(\n",
    "        GaussianProcessRegressor(kernel=kernel, alpha_fit=True, n_restarts_optimizer=25), \n",
    "        GaussianProcessRegressor(kernel=kernel, alpha_fit=True, n_restarts_optimizer=25), \n",
    "        num_iters=10\n",
    "        )\n",
    "    )\n",
    "])"
   ]
  },
  {
   "cell_type": "code",
   "execution_count": 9,
   "metadata": {},
   "outputs": [
    {
     "data": {
      "text/html": [
       "<style>#sk-container-id-1 {color: black;background-color: white;}#sk-container-id-1 pre{padding: 0;}#sk-container-id-1 div.sk-toggleable {background-color: white;}#sk-container-id-1 label.sk-toggleable__label {cursor: pointer;display: block;width: 100%;margin-bottom: 0;padding: 0.3em;box-sizing: border-box;text-align: center;}#sk-container-id-1 label.sk-toggleable__label-arrow:before {content: \"▸\";float: left;margin-right: 0.25em;color: #696969;}#sk-container-id-1 label.sk-toggleable__label-arrow:hover:before {color: black;}#sk-container-id-1 div.sk-estimator:hover label.sk-toggleable__label-arrow:before {color: black;}#sk-container-id-1 div.sk-toggleable__content {max-height: 0;max-width: 0;overflow: hidden;text-align: left;background-color: #f0f8ff;}#sk-container-id-1 div.sk-toggleable__content pre {margin: 0.2em;color: black;border-radius: 0.25em;background-color: #f0f8ff;}#sk-container-id-1 input.sk-toggleable__control:checked~div.sk-toggleable__content {max-height: 200px;max-width: 100%;overflow: auto;}#sk-container-id-1 input.sk-toggleable__control:checked~label.sk-toggleable__label-arrow:before {content: \"▾\";}#sk-container-id-1 div.sk-estimator input.sk-toggleable__control:checked~label.sk-toggleable__label {background-color: #d4ebff;}#sk-container-id-1 div.sk-label input.sk-toggleable__control:checked~label.sk-toggleable__label {background-color: #d4ebff;}#sk-container-id-1 input.sk-hidden--visually {border: 0;clip: rect(1px 1px 1px 1px);clip: rect(1px, 1px, 1px, 1px);height: 1px;margin: -1px;overflow: hidden;padding: 0;position: absolute;width: 1px;}#sk-container-id-1 div.sk-estimator {font-family: monospace;background-color: #f0f8ff;border: 1px dotted black;border-radius: 0.25em;box-sizing: border-box;margin-bottom: 0.5em;}#sk-container-id-1 div.sk-estimator:hover {background-color: #d4ebff;}#sk-container-id-1 div.sk-parallel-item::after {content: \"\";width: 100%;border-bottom: 1px solid gray;flex-grow: 1;}#sk-container-id-1 div.sk-label:hover label.sk-toggleable__label {background-color: #d4ebff;}#sk-container-id-1 div.sk-serial::before {content: \"\";position: absolute;border-left: 1px solid gray;box-sizing: border-box;top: 0;bottom: 0;left: 50%;z-index: 0;}#sk-container-id-1 div.sk-serial {display: flex;flex-direction: column;align-items: center;background-color: white;padding-right: 0.2em;padding-left: 0.2em;position: relative;}#sk-container-id-1 div.sk-item {position: relative;z-index: 1;}#sk-container-id-1 div.sk-parallel {display: flex;align-items: stretch;justify-content: center;background-color: white;position: relative;}#sk-container-id-1 div.sk-item::before, #sk-container-id-1 div.sk-parallel-item::before {content: \"\";position: absolute;border-left: 1px solid gray;box-sizing: border-box;top: 0;bottom: 0;left: 50%;z-index: -1;}#sk-container-id-1 div.sk-parallel-item {display: flex;flex-direction: column;z-index: 1;position: relative;background-color: white;}#sk-container-id-1 div.sk-parallel-item:first-child::after {align-self: flex-end;width: 50%;}#sk-container-id-1 div.sk-parallel-item:last-child::after {align-self: flex-start;width: 50%;}#sk-container-id-1 div.sk-parallel-item:only-child::after {width: 0;}#sk-container-id-1 div.sk-dashed-wrapped {border: 1px dashed gray;margin: 0 0.4em 0.5em 0.4em;box-sizing: border-box;padding-bottom: 0.4em;background-color: white;}#sk-container-id-1 div.sk-label label {font-family: monospace;font-weight: bold;display: inline-block;line-height: 1.2em;}#sk-container-id-1 div.sk-label-container {text-align: center;}#sk-container-id-1 div.sk-container {/* jupyter's `normalize.less` sets `[hidden] { display: none; }` but bootstrap.min.css set `[hidden] { display: none !important; }` so we also need the `!important` here to be able to override the default hidden behavior on the sphinx rendered scikit-learn.org. See: https://github.com/scikit-learn/scikit-learn/issues/21755 */display: inline-block !important;position: relative;}#sk-container-id-1 div.sk-text-repr-fallback {display: none;}</style><div id=\"sk-container-id-1\" class=\"sk-top-container\"><div class=\"sk-text-repr-fallback\"><pre>Pipeline(steps=[(&#x27;scaler&#x27;, MinMaxScaler()),\n",
       "                (&#x27;gpr&#x27;, &lt;hgpr.HGPR object at 0x1614ea320&gt;)])</pre><b>In a Jupyter environment, please rerun this cell to show the HTML representation or trust the notebook. <br />On GitHub, the HTML representation is unable to render, please try loading this page with nbviewer.org.</b></div><div class=\"sk-container\" hidden><div class=\"sk-item sk-dashed-wrapped\"><div class=\"sk-label-container\"><div class=\"sk-label sk-toggleable\"><input class=\"sk-toggleable__control sk-hidden--visually\" id=\"sk-estimator-id-1\" type=\"checkbox\" ><label for=\"sk-estimator-id-1\" class=\"sk-toggleable__label sk-toggleable__label-arrow\">Pipeline</label><div class=\"sk-toggleable__content\"><pre>Pipeline(steps=[(&#x27;scaler&#x27;, MinMaxScaler()),\n",
       "                (&#x27;gpr&#x27;, &lt;hgpr.HGPR object at 0x1614ea320&gt;)])</pre></div></div></div><div class=\"sk-serial\"><div class=\"sk-item\"><div class=\"sk-estimator sk-toggleable\"><input class=\"sk-toggleable__control sk-hidden--visually\" id=\"sk-estimator-id-2\" type=\"checkbox\" ><label for=\"sk-estimator-id-2\" class=\"sk-toggleable__label sk-toggleable__label-arrow\">MinMaxScaler</label><div class=\"sk-toggleable__content\"><pre>MinMaxScaler()</pre></div></div></div><div class=\"sk-item\"><div class=\"sk-estimator sk-toggleable\"><input class=\"sk-toggleable__control sk-hidden--visually\" id=\"sk-estimator-id-3\" type=\"checkbox\" ><label for=\"sk-estimator-id-3\" class=\"sk-toggleable__label sk-toggleable__label-arrow\">HGPR</label><div class=\"sk-toggleable__content\"><pre>&lt;hgpr.HGPR object at 0x1614ea320&gt;</pre></div></div></div></div></div></div></div>"
      ],
      "text/plain": [
       "Pipeline(steps=[('scaler', MinMaxScaler()),\n",
       "                ('gpr', <hgpr.HGPR object at 0x1614ea320>)])"
      ]
     },
     "execution_count": 9,
     "metadata": {},
     "output_type": "execute_result"
    }
   ],
   "source": [
    "# train GPR model for density and HGPR model for amorphicity\n",
    "model_dens.fit(X_init, D_init.astype(float))\n",
    "model_amor.fit(X_init, A_init.astype(float))"
   ]
  },
  {
   "cell_type": "code",
   "execution_count": 10,
   "metadata": {},
   "outputs": [
    {
     "name": "stdout",
     "output_type": "stream",
     "text": [
      "RMSE density: 0.110728 %\n",
      "RMSE amorphicity: 0.930862 %\n"
     ]
    }
   ],
   "source": [
    "D_pred, D_pred_std = model_dens.predict(X, return_std=True)\n",
    "A_pred, A_pred_std = model_amor.predict(X, return_std=True)\n",
    "\n",
    "print(f'RMSE density: {mean_squared_error(D_pred, D, squared=False):.6f} %')\n",
    "print(f'RMSE amorphicity: {mean_squared_error(A_pred, A, squared=False):.6f} %')"
   ]
  },
  {
   "cell_type": "code",
   "execution_count": 11,
   "metadata": {},
   "outputs": [
    {
     "data": {
      "image/png": "[encoded data removed]",
      "text/plain": [
       "<Figure size 1000x400 with 2 Axes>"
      ]
     },
     "metadata": {},
     "output_type": "display_data"
    }
   ],
   "source": [
    "# Creating a figure with two subplots in one row\n",
    "fig, axes = plt.subplots(nrows=1, ncols=2, figsize=(10, 4))\n",
    "\n",
    "# Plotting on the first subplot\n",
    "axes[0].errorbar(D_pred, D, D_pred_std, D_std, 'o', color='gray', markeredgecolor='black')\n",
    "axes[0].plot([95, 101], [95, 101], '--', color='red')\n",
    "axes[0].set_title('Density')\n",
    "axes[0].set_xlabel('Model, %')\n",
    "axes[0].set_ylabel('Experiment, %')\n",
    "axes[0].set_aspect('equal')\n",
    "\n",
    "# Plotting on the second subplot\n",
    "axes[1].errorbar(A_pred, A, A_pred_std, A_std, 'o', color='gray', markeredgecolor='black')\n",
    "axes[1].plot([70, 101], [70, 101], '--', color='red')\n",
    "axes[1].set_title('Amorphicity')\n",
    "axes[1].set_xlabel('Model, %')\n",
    "axes[1].set_ylabel('Experiment, %')\n",
    "axes[1].set_aspect('equal')\n",
    "\n",
    "plt.tight_layout()\n",
    "plt.show()"
   ]
  },
  {
   "cell_type": "markdown",
   "metadata": {},
   "source": [
    "# 3. Bi-objective Optimization"
   ]
  },
  {
   "cell_type": "code",
   "execution_count": 12,
   "metadata": {},
   "outputs": [],
   "source": [
    "def amor_dens(point):\n",
    "    \"\"\"Function-wrapper for predictive models\n",
    "    Args:\n",
    "        point: (list) [power, hatch distance, scanning velocity] at which evaluate the models\n",
    "    Returns:\n",
    "        (list) [density, amorphicity]\n",
    "    \"\"\"\n",
    "    # point_scaled = scaler_Xinit.transform([point])\n",
    "    dens = - model_dens.predict([point])[0]\n",
    "    amor = - model_amor.predict([point])[0]\n",
    "    return (dens, amor)\n",
    "\n",
    "class ProblemWrapper(Problem):\n",
    "\n",
    "    def _evaluate(self, points, out, *args, **kwargs):\n",
    "        res = []\n",
    "\n",
    "        for point in points:\n",
    "            res.append(amor_dens(point))\n",
    "        \n",
    "        out['F'] = np.array(res)"
   ]
  },
  {
   "cell_type": "code",
   "execution_count": 13,
   "metadata": {},
   "outputs": [],
   "source": [
    "problem = ProblemWrapper(n_var=3, n_obj=2, xl=[minP, minH, minV], xu=[maxP, maxH, maxV])\n",
    "\n",
    "algorithm = NSGA2(pop_size=1000)\n",
    "termination = ('n_gen', 300)"
   ]
  },
  {
   "cell_type": "code",
   "execution_count": 14,
   "metadata": {},
   "outputs": [],
   "source": [
    "results = minimize(\n",
    "    problem=problem,\n",
    "    algorithm=algorithm,\n",
    "    termination=termination,\n",
    "    save_history=True,\n",
    "    verbose=False\n",
    ")\n"
   ]
  },
  {
   "cell_type": "code",
   "execution_count": 17,
   "metadata": {},
   "outputs": [
    {
     "name": "stdout",
     "output_type": "stream",
     "text": [
      "Optimal Solutions:\n",
      "        Power  Hatch distance  Scanning velocity     Density  Amorphicity\n",
      "0   95.791100      190.868638           0.804524   99.151838    99.325284\n",
      "1  115.118241      190.433106           0.916580  100.176124    95.948838\n",
      "2  115.115366      190.433106           0.917429  100.176119    95.966204\n"
     ]
    }
   ],
   "source": [
    "res_df = pd.DataFrame(np.concatenate((results.X, (-1) * results.F), axis=1), columns=['Power', 'Hatch distance', 'Scanning velocity', 'Density', 'Amorphicity'])\n",
    "\n",
    "print('Optimal Solutions:')\n",
    "print(res_df[:3])"
   ]
  },
  {
   "cell_type": "code",
   "execution_count": 16,
   "metadata": {},
   "outputs": [
    {
     "data": {
      "image/png": "[encoded data removed]",
      "text/plain": [
       "<Figure size 600x500 with 1 Axes>"
      ]
     },
     "metadata": {},
     "output_type": "display_data"
    }
   ],
   "source": [
    "# check the convergence of hypervolume\n",
    "num_evaluations = []\n",
    "objective_space_values = []\n",
    "for generation_info in results.history:\n",
    "    # Extracting information from the current generation\n",
    "    num_evaluations.append(generation_info.evaluator.n_eval)  # Store the number of function evaluations\n",
    "    optimizer_info = generation_info.opt  # Retrieve the optimum from the algorithm\n",
    "    # Filtering out only the feasible solutions and appending the objective space values\n",
    "    feasible_indices = np.where(optimizer_info.get(\"feasible\"))[0]\n",
    "    objective_space_values.append(optimizer_info.get(\"F\")[feasible_indices])\n",
    "\n",
    "approx_ideal = results.F.min(axis=0)\n",
    "approx_nadir = results.F.max(axis=0)\n",
    "ref_point = np.array([1.1, 1.1])\n",
    "\n",
    "metric = Hypervolume(ref_point=ref_point,\n",
    "                     norm_ref_point=False,\n",
    "                     zero_to_one=True,\n",
    "                     ideal=approx_ideal,\n",
    "                     nadir=approx_nadir)\n",
    "\n",
    "hypervolume = [metric.do(_F) for _F in objective_space_values]\n",
    "\n",
    "plt.figure(figsize=(6, 5))\n",
    "plt.plot(num_evaluations, hypervolume,  color='black', lw=0.7)\n",
    "plt.scatter(num_evaluations, hypervolume,  facecolor=\"none\", edgecolor='black', marker=\"o\")\n",
    "plt.title(\"Convergence\")\n",
    "plt.xlabel(\"Function Evaluations\")\n",
    "plt.ylabel(\"Hypervolume\")\n",
    "plt.show()"
   ]
  }
 ],
 "metadata": {
  "kernelspec": {
   "display_name": "ml-vis",
   "language": "python",
   "name": "python3"
  },
  "language_info": {
   "codemirror_mode": {
    "name": "ipython",
    "version": 3
   },
   "file_extension": ".py",
   "mimetype": "text/x-python",
   "name": "python",
   "nbconvert_exporter": "python",
   "pygments_lexer": "ipython3",
   "version": "3.10.9"
  }
 },
 "nbformat": 4,
 "nbformat_minor": 2
}
